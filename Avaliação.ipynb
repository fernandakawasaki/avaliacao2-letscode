{
  "cells": [
    {
      "cell_type": "markdown",
      "id": "6cc00289",
      "metadata": {
        "id": "6cc00289"
      },
      "source": [
        "# Avaliacão Módulo II"
      ]
    },
    {
      "cell_type": "markdown",
      "id": "ca0f34e4",
      "metadata": {
        "id": "ca0f34e4"
      },
      "source": [
        "Vamos fazer novamente a avaliacão por rubrica:  \n",
        "  \n",
        "A aula de hoje é reservada para  \n",
        "  \n",
        "**Autoavaliação e avaliação do professor:**\n",
        "  \n",
        "Observando os projetos que desenvolvemos durante o módulo e conversando préviamente com o professor do próximo módulo vamos ter um conteúdo bem legal e denso de estatística."
      ]
    },
    {
      "cell_type": "markdown",
      "id": "dd7380ff",
      "metadata": {
        "id": "dd7380ff"
      },
      "source": [
        "Faca um programa que:\n",
        "1) Carregue os dados de um csv remoto, ex. csv do github, csv de uma base aberta qualquer ou API.  \n",
        "2) Crie uma api que filtre esses dados e (depois do item 4) retorne o json dos dados filtrados.  \n",
        "3) A partir dos dados filtrados você deve escolher uma variável quantitativa para agregar com um groupby e criar um csv e um json resposta, ambos devem ser persistidos.  \n",
        "4) A partir dos dados filtrados você deve escolher um gráfico para fazer como por exemplo fizemos as gorgetas dadas por sexo ou dia da semana. Crie uma figura png ou jpeg resposta.  \n",
        "5) Coloque sua resposta em um projeto novo no git e envie por e-mail.  \n",
        "  \n",
        "Entregar até 29/11."
      ]
    }
  ],
  "metadata": {
    "colab": {
      "name": "Avaliação.ipynb",
      "provenance": []
    },
    "kernelspec": {
      "display_name": "Python 3",
      "language": "python",
      "name": "python3"
    },
    "language_info": {
      "codemirror_mode": {
        "name": "ipython",
        "version": 3
      },
      "file_extension": ".py",
      "mimetype": "text/x-python",
      "name": "python",
      "nbconvert_exporter": "python",
      "pygments_lexer": "ipython3",
      "version": "3.8.10"
    }
  },
  "nbformat": 4,
  "nbformat_minor": 5
}
